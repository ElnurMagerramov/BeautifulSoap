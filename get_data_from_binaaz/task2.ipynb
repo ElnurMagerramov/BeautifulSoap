{
 "cells": [
  {
   "cell_type": "code",
   "execution_count": null,
   "metadata": {},
   "outputs": [],
   "source": [
    "import scrapy\n",
    "import numpy as np\n",
    "import pandas as pd\n",
    "from scrapy.http import HtmlResponse\n",
    "class QuotesSpider(scrapy.Spider):\n",
    "    name = \"quotes\"\n",
    "    allowed_domains=['quotes.toscrape.com']\n",
    "    start_urls=['https://quotes.toscrape.com/']\n",
    "    def parse(self, response):\n",
    "        quotes=response.css(\"div.quote\")\n",
    "        quote_array=[]\n",
    "        for quote in quotes:\n",
    "            quote_array.append(quote.css(\"span.text::text\").get())\n",
    "        for quote in quotes:\n",
    "            quote_array.append(quote.css(\"small.author::text\").get())\n",
    "        for quote in quotes:\n",
    "            quote_array.append(quote.css(\"div.tags a.tag::text\").get())\n",
    "        for quote in quotes:\n",
    "            quote_array.append(quote.css(\"small.author+a::href\").get())\n",
    "        quote_array=np.array(quote_array)\n",
    "        quote_array=quote_array.reshape(4,10).T\n",
    "        df=pd.DataFrame(quote_array)\n",
    "        df.rename(columns = {0:'Quotes', 1:'Authors',2:'Tags', 3:'Links'}, inplace = True)\n",
    "        df.to_csv(\"quotes.csv\")\n",
    "        csv=pd.read_csv(\"quotes.csv\")\n",
    "        csv.drop(\"Unnamed: 0\", axis=1)\n",
    "        return csv\n",
    "URL = 'https://quotes.toscrape.com/'\n",
    "response = scrapy.http.TextResponse(url=URL)   \n",
    "spider=QuotesSpider()\n",
    "spider.parse(response)"
   ]
  }
 ],
 "metadata": {
  "kernelspec": {
   "display_name": "Python 3.10.6 64-bit (windows store)",
   "language": "python",
   "name": "python3"
  },
  "language_info": {
   "codemirror_mode": {
    "name": "ipython",
    "version": 3
   },
   "file_extension": ".py",
   "mimetype": "text/x-python",
   "name": "python",
   "nbconvert_exporter": "python",
   "pygments_lexer": "ipython3",
   "version": "3.10.6"
  },
  "orig_nbformat": 4,
  "vscode": {
   "interpreter": {
    "hash": "a9bddaedf6de2ce975075bc226d99e1c6c3db53703373ffb150042d854641e3d"
   }
  }
 },
 "nbformat": 4,
 "nbformat_minor": 2
}
